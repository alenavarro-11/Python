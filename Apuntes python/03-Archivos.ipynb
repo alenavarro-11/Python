{
 "cells": [
  {
   "cell_type": "markdown",
   "id": "c4db2a82",
   "metadata": {},
   "source": [
    "### ARCHIVOS"
   ]
  },
  {
   "cell_type": "markdown",
   "id": "a36f6c3d",
   "metadata": {},
   "source": [
    "Python emplea unos file objects para interactuar con los archivos de tu ordenador."
   ]
  },
  {
   "cell_type": "markdown",
   "id": "8852f200",
   "metadata": {},
   "source": [
    "Puede manejar cualquier tipo de archivo, para algunos es posible que necesites librerías adicionales."
   ]
  },
  {
   "cell_type": "markdown",
   "id": "6a138ee9",
   "metadata": {},
   "source": [
    "Podemos abrir archivos con **open()**, leerlos con **read() o readlines()**, cerrarlos con **close()** y escribir en ellos con **write()**. "
   ]
  },
  {
   "cell_type": "markdown",
   "id": "39e31c5a",
   "metadata": {},
   "source": [
    "Usando **open()** y w, w+, a+ nos permite sobreescribir o añadir información a la ya existente."
   ]
  },
  {
   "cell_type": "code",
   "execution_count": 63,
   "id": "40cb0623",
   "metadata": {},
   "outputs": [],
   "source": [
    "# Vamos a abrir el archivo test.txt.\n",
    "mi_archivo=open('test.txt')"
   ]
  },
  {
   "cell_type": "code",
   "execution_count": 67,
   "id": "32d4eef6",
   "metadata": {},
   "outputs": [
    {
     "data": {
      "text/plain": [
       "[]"
      ]
     },
     "execution_count": 67,
     "metadata": {},
     "output_type": "execute_result"
    }
   ],
   "source": [
    "# Leemos el archivo. \n",
    "mi_archivo.readlines()"
   ]
  },
  {
   "cell_type": "code",
   "execution_count": 69,
   "id": "444c3f14",
   "metadata": {
    "scrolled": true
   },
   "outputs": [
    {
     "data": {
      "text/plain": [
       "''"
      ]
     },
     "execution_count": 69,
     "metadata": {},
     "output_type": "execute_result"
    }
   ],
   "source": [
    "# Pero, qué pasa si lo leemos más de una vez? Que nos lleva el cursor al final\n",
    "mi_archivo.read()"
   ]
  },
  {
   "cell_type": "code",
   "execution_count": 71,
   "id": "f96508bf",
   "metadata": {},
   "outputs": [
    {
     "data": {
      "text/plain": [
       "0"
      ]
     },
     "execution_count": 71,
     "metadata": {},
     "output_type": "execute_result"
    }
   ],
   "source": [
    "# Podemos reseatear el cursor así\n",
    "mi_archivo.seek(0)"
   ]
  },
  {
   "cell_type": "code",
   "execution_count": 73,
   "id": "dbb682dd",
   "metadata": {},
   "outputs": [
    {
     "data": {
      "text/plain": [
       "''"
      ]
     },
     "execution_count": 73,
     "metadata": {},
     "output_type": "execute_result"
    }
   ],
   "source": [
    "mi_archivo.read()"
   ]
  },
  {
   "cell_type": "code",
   "execution_count": 45,
   "id": "32cbcc63",
   "metadata": {},
   "outputs": [
    {
     "data": {
      "text/plain": [
       "<_io.TextIOWrapper name='test.txt' mode='r' encoding='UTF-8'>"
      ]
     },
     "execution_count": 45,
     "metadata": {},
     "output_type": "execute_result"
    }
   ],
   "source": [
    "mi_archivo"
   ]
  },
  {
   "cell_type": "code",
   "execution_count": 35,
   "id": "b54d71ab",
   "metadata": {},
   "outputs": [
    {
     "ename": "UnicodeDecodeError",
     "evalue": "'utf-8' codec can't decode byte 0xed in position 13: invalid continuation byte",
     "output_type": "error",
     "traceback": [
      "\u001b[0;31m---------------------------------------------------------------------------\u001b[0m",
      "\u001b[0;31mUnicodeDecodeError\u001b[0m                        Traceback (most recent call last)",
      "Cell \u001b[0;32mIn[35], line 3\u001b[0m\n\u001b[1;32m      1\u001b[0m \u001b[38;5;66;03m# Si usamos la función readlines() nos devuelve una lista para cada línea del archivo\u001b[39;00m\n\u001b[1;32m      2\u001b[0m mi_archivo\u001b[38;5;241m.\u001b[39mseek(\u001b[38;5;241m0\u001b[39m)\n\u001b[0;32m----> 3\u001b[0m mi_archivo\u001b[38;5;241m.\u001b[39mreadlines()\n",
      "File \u001b[0;32m<frozen codecs>:322\u001b[0m, in \u001b[0;36mdecode\u001b[0;34m(self, input, final)\u001b[0m\n",
      "\u001b[0;31mUnicodeDecodeError\u001b[0m: 'utf-8' codec can't decode byte 0xed in position 13: invalid continuation byte"
     ]
    }
   ],
   "source": [
    "# Si usamos la función readlines() nos devuelve una lista para cada línea del archivo\n",
    "mi_archivo.seek(0)\n",
    "mi_archivo.readlines()"
   ]
  },
  {
   "cell_type": "code",
   "execution_count": 43,
   "id": "f7c01a26",
   "metadata": {},
   "outputs": [],
   "source": [
    "# Podemos cerrar un archivo. Siempre es buena idea cerrarlos para evitar que consuman memoria.\n",
    "mi_archivo.close()"
   ]
  },
  {
   "cell_type": "code",
   "execution_count": 47,
   "id": "2a69927b",
   "metadata": {},
   "outputs": [],
   "source": [
    "# Podemos escribir un archivo usando open y w+ que se emplea para leer y escribir sobre el archivo.\n",
    "# Hay que tener en cuenta que si se usa w o w+ se elimina el contenido anterior del archivo!!!!\n",
    "mi_archivo=open('test.txt','w+')"
   ]
  },
  {
   "cell_type": "code",
   "execution_count": null,
   "id": "f4188a5c",
   "metadata": {},
   "outputs": [],
   "source": [
    "# Ahora escribimos en él\n",
    "mi_archivo.write('Esta es una linea nueva')"
   ]
  },
  {
   "cell_type": "code",
   "execution_count": null,
   "id": "3a5fcb6e",
   "metadata": {},
   "outputs": [],
   "source": [
    "mi_archivo.seek(0)\n",
    "mi_archivo.read()"
   ]
  },
  {
   "cell_type": "code",
   "execution_count": null,
   "id": "dd01072c",
   "metadata": {},
   "outputs": [],
   "source": [
    "mi_archivo.close()"
   ]
  },
  {
   "cell_type": "code",
   "execution_count": null,
   "id": "fbd711fb",
   "metadata": {},
   "outputs": [],
   "source": [
    "# Ahora queremos añadir información nueva\n",
    "mi_archivo = open('test.txt','a+')\n",
    "mi_archivo.write('\\nEsta línea va detrás de la anterior')\n",
    "mi_archivo.write('\\nY aquí ponemos otra')"
   ]
  },
  {
   "cell_type": "code",
   "execution_count": null,
   "id": "68b548e9",
   "metadata": {},
   "outputs": [],
   "source": [
    "mi_archivo.seek(0)\n",
    "mi_archivo.read()"
   ]
  },
  {
   "cell_type": "code",
   "execution_count": null,
   "id": "f8f175a1",
   "metadata": {},
   "outputs": [],
   "source": [
    "# Al poner print nos muestra el texto sin comandos\n",
    "mi_archivo.seek(0)\n",
    "print(mi_archivo.read())"
   ]
  },
  {
   "cell_type": "code",
   "execution_count": null,
   "id": "9144d98d",
   "metadata": {},
   "outputs": [],
   "source": [
    "# También podemos iterar sobre los archivos\n",
    "mi_archivo.seek(0)\n",
    "for line in mi_archivo:\n",
    "    print(line)"
   ]
  },
  {
   "cell_type": "code",
   "execution_count": null,
   "id": "90990091",
   "metadata": {},
   "outputs": [],
   "source": [
    "mi_archivo.close()"
   ]
  }
 ],
 "metadata": {
  "kernelspec": {
   "display_name": "Python 3 (ipykernel)",
   "language": "python",
   "name": "python3"
  },
  "language_info": {
   "codemirror_mode": {
    "name": "ipython",
    "version": 3
   },
   "file_extension": ".py",
   "mimetype": "text/x-python",
   "name": "python",
   "nbconvert_exporter": "python",
   "pygments_lexer": "ipython3",
   "version": "3.12.4"
  }
 },
 "nbformat": 4,
 "nbformat_minor": 5
}
