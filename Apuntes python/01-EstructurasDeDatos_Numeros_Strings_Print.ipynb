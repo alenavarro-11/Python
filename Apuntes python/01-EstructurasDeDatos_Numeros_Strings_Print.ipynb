{
 "cells": [
  {
   "cell_type": "markdown",
   "id": "bcddb344",
   "metadata": {},
   "source": [
    "### Variables"
   ]
  },
  {
   "cell_type": "markdown",
   "id": "acabcea4",
   "metadata": {},
   "source": [
    "Hay una serie de reglas para nombrar variables:\n",
    "1. No empezar por números\n",
    "2. No se pueden usar símbolos especiales como: '\".,<>/?|()!@#$~%¬-+\n",
    "3. Siempre se considera mejor que se usan las variables en minúsculas\n",
    "4. Evitar usar los caracteres 'I', 'O' o 'l'\n",
    "5. Evitar usar palabras con significado especial en Python como list o str"
   ]
  },
  {
   "cell_type": "markdown",
   "id": "bff239f6",
   "metadata": {},
   "source": [
    "### Números"
   ]
  },
  {
   "cell_type": "markdown",
   "id": "5df14486",
   "metadata": {},
   "source": [
    "Python tiene varios tipos de números, principalmente dos: **enteros o integers** (números positivos o negativos, enteros) y **floating points** (números con decimales). También los exponenciales como 4E2."
   ]
  },
  {
   "cell_type": "code",
   "execution_count": 2,
   "id": "d39cbbcd",
   "metadata": {},
   "outputs": [
    {
     "data": {
      "text/plain": [
       "4"
      ]
     },
     "execution_count": 2,
     "metadata": {},
     "output_type": "execute_result"
    }
   ],
   "source": [
    "# Suma\n",
    "1+3"
   ]
  },
  {
   "cell_type": "code",
   "execution_count": 4,
   "id": "bec2ff11",
   "metadata": {},
   "outputs": [
    {
     "data": {
      "text/plain": [
       "1"
      ]
     },
     "execution_count": 4,
     "metadata": {},
     "output_type": "execute_result"
    }
   ],
   "source": [
    "# Resta\n",
    "2-1"
   ]
  },
  {
   "cell_type": "code",
   "execution_count": 6,
   "id": "07c8613d",
   "metadata": {},
   "outputs": [
    {
     "data": {
      "text/plain": [
       "10"
      ]
     },
     "execution_count": 6,
     "metadata": {},
     "output_type": "execute_result"
    }
   ],
   "source": [
    "# Multiplicación\n",
    "2*5"
   ]
  },
  {
   "cell_type": "code",
   "execution_count": 8,
   "id": "7cb1b90b",
   "metadata": {},
   "outputs": [
    {
     "data": {
      "text/plain": [
       "1.5"
      ]
     },
     "execution_count": 8,
     "metadata": {},
     "output_type": "execute_result"
    }
   ],
   "source": [
    "# Division\n",
    "3/2"
   ]
  },
  {
   "cell_type": "code",
   "execution_count": 10,
   "id": "291a44b1",
   "metadata": {
    "scrolled": true
   },
   "outputs": [
    {
     "data": {
      "text/plain": [
       "1"
      ]
     },
     "execution_count": 10,
     "metadata": {},
     "output_type": "execute_result"
    }
   ],
   "source": [
    "# Floor o división de piso (// trunca el resultado sin redondear y nos da el número entero)\n",
    "3//2"
   ]
  },
  {
   "cell_type": "code",
   "execution_count": 12,
   "id": "dffd326b",
   "metadata": {},
   "outputs": [
    {
     "data": {
      "text/plain": [
       "1"
      ]
     },
     "execution_count": 12,
     "metadata": {},
     "output_type": "execute_result"
    }
   ],
   "source": [
    "# Módulo (nos da el resto)\n",
    "3%2"
   ]
  },
  {
   "cell_type": "code",
   "execution_count": 14,
   "id": "0884043f",
   "metadata": {},
   "outputs": [
    {
     "data": {
      "text/plain": [
       "8"
      ]
     },
     "execution_count": 14,
     "metadata": {},
     "output_type": "execute_result"
    }
   ],
   "source": [
    "# Potencia\n",
    "2**3"
   ]
  },
  {
   "cell_type": "code",
   "execution_count": 16,
   "id": "0b145478",
   "metadata": {
    "scrolled": true
   },
   "outputs": [
    {
     "data": {
      "text/plain": [
       "2.0"
      ]
     },
     "execution_count": 16,
     "metadata": {},
     "output_type": "execute_result"
    }
   ],
   "source": [
    "# Raíces (como la potencia al revés)\n",
    "4**0.5"
   ]
  },
  {
   "cell_type": "code",
   "execution_count": 18,
   "id": "dec14020",
   "metadata": {},
   "outputs": [
    {
     "data": {
      "text/plain": [
       "2.0"
      ]
     },
     "execution_count": 18,
     "metadata": {},
     "output_type": "execute_result"
    }
   ],
   "source": [
    "4**(1/2)"
   ]
  },
  {
   "cell_type": "code",
   "execution_count": 20,
   "id": "68658bed",
   "metadata": {},
   "outputs": [
    {
     "data": {
      "text/plain": [
       "106"
      ]
     },
     "execution_count": 20,
     "metadata": {},
     "output_type": "execute_result"
    }
   ],
   "source": [
    "# Orden de operaciones en Python\n",
    "1+10*10+5"
   ]
  },
  {
   "cell_type": "code",
   "execution_count": 22,
   "id": "e121c094",
   "metadata": {},
   "outputs": [
    {
     "data": {
      "text/plain": [
       "165"
      ]
     },
     "execution_count": 22,
     "metadata": {},
     "output_type": "execute_result"
    }
   ],
   "source": [
    "(1+10)*(10+5)"
   ]
  },
  {
   "cell_type": "code",
   "execution_count": 28,
   "id": "46ae2487",
   "metadata": {},
   "outputs": [],
   "source": [
    "# Asignamos números a variables\n",
    "a=5"
   ]
  },
  {
   "cell_type": "code",
   "execution_count": 30,
   "id": "332bf0e2",
   "metadata": {},
   "outputs": [
    {
     "data": {
      "text/plain": [
       "10"
      ]
     },
     "execution_count": 30,
     "metadata": {},
     "output_type": "execute_result"
    }
   ],
   "source": [
    "a+a"
   ]
  },
  {
   "cell_type": "code",
   "execution_count": 54,
   "id": "72165d42",
   "metadata": {},
   "outputs": [],
   "source": [
    "# Reasignamos\n",
    "a=10"
   ]
  },
  {
   "cell_type": "code",
   "execution_count": 56,
   "id": "f1ab554c",
   "metadata": {},
   "outputs": [
    {
     "data": {
      "text/plain": [
       "10"
      ]
     },
     "execution_count": 56,
     "metadata": {},
     "output_type": "execute_result"
    }
   ],
   "source": [
    "a"
   ]
  },
  {
   "cell_type": "code",
   "execution_count": 58,
   "id": "0ba3ba7e",
   "metadata": {},
   "outputs": [],
   "source": [
    "a=a+a"
   ]
  },
  {
   "cell_type": "code",
   "execution_count": 60,
   "id": "b7f69aa8",
   "metadata": {},
   "outputs": [
    {
     "data": {
      "text/plain": [
       "20"
      ]
     },
     "execution_count": 60,
     "metadata": {},
     "output_type": "execute_result"
    }
   ],
   "source": [
    "a"
   ]
  },
  {
   "cell_type": "code",
   "execution_count": 42,
   "id": "a7a2b180",
   "metadata": {},
   "outputs": [
    {
     "data": {
      "text/plain": [
       "10.0"
      ]
     },
     "execution_count": 42,
     "metadata": {},
     "output_type": "execute_result"
    }
   ],
   "source": [
    "mi_valor=100\n",
    "ratio=0.1\n",
    "mi_precio=mi_valor*ratio\n",
    "mi_precio"
   ]
  },
  {
   "cell_type": "code",
   "execution_count": 62,
   "id": "f1208bf8",
   "metadata": {},
   "outputs": [
    {
     "data": {
      "text/plain": [
       "float"
      ]
     },
     "execution_count": 62,
     "metadata": {},
     "output_type": "execute_result"
    }
   ],
   "source": [
    "# Podemos determinar el tipo de una variable con type()\n",
    "type(mi_precio)"
   ]
  },
  {
   "cell_type": "markdown",
   "id": "b34361cb",
   "metadata": {},
   "source": [
    "### STRINGS"
   ]
  },
  {
   "cell_type": "markdown",
   "id": "3fb7f672",
   "metadata": {},
   "source": [
    "Guardan piezas de texto, secuencias, etc. Son secuencias de caracteres. Se emplean comillas. "
   ]
  },
  {
   "cell_type": "markdown",
   "id": "4e772236",
   "metadata": {},
   "source": [
    "Son inmutables, una vez creada los elementos ya no se pueden modificar o cambiar. Sí que se pueden concatenar strings. "
   ]
  },
  {
   "cell_type": "markdown",
   "id": "c6a6fd22",
   "metadata": {},
   "source": [
    "Hay funciones útiles como **upper(), lower() o split()**"
   ]
  },
  {
   "cell_type": "markdown",
   "id": "138663d0",
   "metadata": {},
   "source": [
    "Las strings se pueden mostrar con **print(), format() o f-strings()**"
   ]
  },
  {
   "cell_type": "code",
   "execution_count": 64,
   "id": "21be8dc1",
   "metadata": {},
   "outputs": [
    {
     "data": {
      "text/plain": [
       "'hello'"
      ]
     },
     "execution_count": 64,
     "metadata": {},
     "output_type": "execute_result"
    }
   ],
   "source": [
    "'hello'"
   ]
  },
  {
   "cell_type": "code",
   "execution_count": 66,
   "id": "8787b426",
   "metadata": {},
   "outputs": [
    {
     "data": {
      "text/plain": [
       "'Esto también es una string'"
      ]
     },
     "execution_count": 66,
     "metadata": {},
     "output_type": "execute_result"
    }
   ],
   "source": [
    "'Esto también es una string'"
   ]
  },
  {
   "cell_type": "code",
   "execution_count": 68,
   "id": "8960a93c",
   "metadata": {},
   "outputs": [
    {
     "data": {
      "text/plain": [
       "'y esto también'"
      ]
     },
     "execution_count": 68,
     "metadata": {},
     "output_type": "execute_result"
    }
   ],
   "source": [
    "\"y esto también\""
   ]
  },
  {
   "cell_type": "code",
   "execution_count": 70,
   "id": "20a4645e",
   "metadata": {},
   "outputs": [
    {
     "ename": "SyntaxError",
     "evalue": "unterminated string literal (detected at line 2) (1773677481.py, line 2)",
     "output_type": "error",
     "traceback": [
      "\u001b[0;36m  Cell \u001b[0;32mIn[70], line 2\u001b[0;36m\u001b[0m\n\u001b[0;31m    'i'm using this'\u001b[0m\n\u001b[0m                   ^\u001b[0m\n\u001b[0;31mSyntaxError\u001b[0m\u001b[0;31m:\u001b[0m unterminated string literal (detected at line 2)\n"
     ]
    }
   ],
   "source": [
    "# Para algunas cosas la comilla simple no nos serviría\n",
    "'i'm using this'"
   ]
  },
  {
   "cell_type": "code",
   "execution_count": 72,
   "id": "ee74571e",
   "metadata": {},
   "outputs": [
    {
     "data": {
      "text/plain": [
       "\"i'm using this\""
      ]
     },
     "execution_count": 72,
     "metadata": {},
     "output_type": "execute_result"
    }
   ],
   "source": [
    "\"i'm using this\""
   ]
  },
  {
   "cell_type": "code",
   "execution_count": 78,
   "id": "993fd2d4",
   "metadata": {},
   "outputs": [
    {
     "name": "stdout",
     "output_type": "stream",
     "text": [
      "Hello World 1\n",
      "Hello World 2\n",
      "Use \t to print a new line\n",
      "n\n",
      "\n",
      "See what I mean?\n"
     ]
    }
   ],
   "source": [
    "# Print() nos permite mostrar strings en el código\n",
    "print('Hello World 1')\n",
    "print('Hello World 2')\n",
    "print('Use \\t to print a new line')\n",
    "print(\"n\\n\")\n",
    "print('See what I mean?')"
   ]
  },
  {
   "cell_type": "code",
   "execution_count": 80,
   "id": "5f4daf2e",
   "metadata": {},
   "outputs": [
    {
     "data": {
      "text/plain": [
       "11"
      ]
     },
     "execution_count": 80,
     "metadata": {},
     "output_type": "execute_result"
    }
   ],
   "source": [
    "# Podemos usar len() para chequear la longitud de una string\n",
    "len(\"Hello World\")"
   ]
  },
  {
   "cell_type": "code",
   "execution_count": 82,
   "id": "b21f1501",
   "metadata": {},
   "outputs": [
    {
     "data": {
      "text/plain": [
       "'Hello World'"
      ]
     },
     "execution_count": 82,
     "metadata": {},
     "output_type": "execute_result"
    }
   ],
   "source": [
    "s=\"Hello World\"\n",
    "s"
   ]
  },
  {
   "cell_type": "code",
   "execution_count": 84,
   "id": "0abe5524",
   "metadata": {
    "scrolled": true
   },
   "outputs": [
    {
     "name": "stdout",
     "output_type": "stream",
     "text": [
      "Hello World\n"
     ]
    }
   ],
   "source": [
    "print(s)"
   ]
  },
  {
   "cell_type": "code",
   "execution_count": 88,
   "id": "31b7eaea",
   "metadata": {},
   "outputs": [
    {
     "data": {
      "text/plain": [
       "'Hello World'"
      ]
     },
     "execution_count": 88,
     "metadata": {},
     "output_type": "execute_result"
    }
   ],
   "source": [
    "s"
   ]
  },
  {
   "cell_type": "code",
   "execution_count": 90,
   "id": "fc14ce46",
   "metadata": {},
   "outputs": [
    {
     "name": "stdout",
     "output_type": "stream",
     "text": [
      "11\n"
     ]
    },
    {
     "data": {
      "text/plain": [
       "str"
      ]
     },
     "execution_count": 90,
     "metadata": {},
     "output_type": "execute_result"
    }
   ],
   "source": [
    "a=len(s)\n",
    "print(a)\n",
    "type(s)"
   ]
  },
  {
   "cell_type": "code",
   "execution_count": 96,
   "id": "1d1a259e",
   "metadata": {},
   "outputs": [
    {
     "data": {
      "text/plain": [
       "'H'"
      ]
     },
     "execution_count": 96,
     "metadata": {},
     "output_type": "execute_result"
    }
   ],
   "source": [
    "# En Python se empieza a contar desde el 0\n",
    "s[0]"
   ]
  },
  {
   "cell_type": "code",
   "execution_count": 98,
   "id": "a22f18a3",
   "metadata": {},
   "outputs": [
    {
     "data": {
      "text/plain": [
       "'l'"
      ]
     },
     "execution_count": 98,
     "metadata": {},
     "output_type": "execute_result"
    }
   ],
   "source": [
    "s[2]"
   ]
  },
  {
   "cell_type": "code",
   "execution_count": 100,
   "id": "0b89713b",
   "metadata": {},
   "outputs": [
    {
     "data": {
      "text/plain": [
       "'ello World'"
      ]
     },
     "execution_count": 100,
     "metadata": {},
     "output_type": "execute_result"
    }
   ],
   "source": [
    "# Coger todo desde el caracter 1 hasta el final\n",
    "s[1:]"
   ]
  },
  {
   "cell_type": "code",
   "execution_count": 102,
   "id": "e38677d7",
   "metadata": {},
   "outputs": [
    {
     "data": {
      "text/plain": [
       "'Hel'"
      ]
     },
     "execution_count": 102,
     "metadata": {},
     "output_type": "execute_result"
    }
   ],
   "source": [
    "# Coger todo desde el principio hasta el número 3 (no incluido)\n",
    "s[:3]"
   ]
  },
  {
   "cell_type": "code",
   "execution_count": 104,
   "id": "ac2c9eae",
   "metadata": {},
   "outputs": [
    {
     "data": {
      "text/plain": [
       "'Hello World'"
      ]
     },
     "execution_count": 104,
     "metadata": {},
     "output_type": "execute_result"
    }
   ],
   "source": [
    "# Coger todo\n",
    "s[:]"
   ]
  },
  {
   "cell_type": "code",
   "execution_count": 106,
   "id": "a1f5c70f",
   "metadata": {},
   "outputs": [
    {
     "data": {
      "text/plain": [
       "'Hello Worl'"
      ]
     },
     "execution_count": 106,
     "metadata": {},
     "output_type": "execute_result"
    }
   ],
   "source": [
    "# Podemos coger todo menos la última\n",
    "s[:-1]"
   ]
  },
  {
   "cell_type": "code",
   "execution_count": 108,
   "id": "42645b47",
   "metadata": {},
   "outputs": [
    {
     "data": {
      "text/plain": [
       "'HloWrd'"
      ]
     },
     "execution_count": 108,
     "metadata": {},
     "output_type": "execute_result"
    }
   ],
   "source": [
    "# Coger todo pero yendo en pasos de 2\n",
    "s[::2]"
   ]
  },
  {
   "cell_type": "code",
   "execution_count": 110,
   "id": "0157427d",
   "metadata": {},
   "outputs": [
    {
     "data": {
      "text/plain": [
       "'dlroW olleH'"
      ]
     },
     "execution_count": 110,
     "metadata": {},
     "output_type": "execute_result"
    }
   ],
   "source": [
    "# La mostramos al revés\n",
    "s[::-1]"
   ]
  },
  {
   "cell_type": "code",
   "execution_count": 112,
   "id": "14b9faee",
   "metadata": {},
   "outputs": [
    {
     "ename": "TypeError",
     "evalue": "'str' object does not support item assignment",
     "output_type": "error",
     "traceback": [
      "\u001b[0;31m---------------------------------------------------------------------------\u001b[0m",
      "\u001b[0;31mTypeError\u001b[0m                                 Traceback (most recent call last)",
      "Cell \u001b[0;32mIn[112], line 1\u001b[0m\n\u001b[0;32m----> 1\u001b[0m s[\u001b[38;5;241m0\u001b[39m]\u001b[38;5;241m=\u001b[39m\u001b[38;5;124m'\u001b[39m\u001b[38;5;124mx\u001b[39m\u001b[38;5;124m'\u001b[39m\n",
      "\u001b[0;31mTypeError\u001b[0m: 'str' object does not support item assignment"
     ]
    }
   ],
   "source": [
    "s[0]='x'"
   ]
  },
  {
   "cell_type": "code",
   "execution_count": 184,
   "id": "42273bd8",
   "metadata": {},
   "outputs": [],
   "source": [
    "# Concatenar\n",
    "s =s + ' concatename'"
   ]
  },
  {
   "cell_type": "code",
   "execution_count": 186,
   "id": "ad6981b6",
   "metadata": {},
   "outputs": [
    {
     "data": {
      "text/plain": [
       "'Hello World concatename concatename concatename concatename concatename concatename concatename concatename concatename concatename concatename concatename concatename concatename concatename concatename concatename concatename concatename concatename concatename concatename concatename concatename concatename concatename concatename concatename concatename concatename concatename concatename concatename concatename concatename'"
      ]
     },
     "execution_count": 186,
     "metadata": {},
     "output_type": "execute_result"
    }
   ],
   "source": [
    "s"
   ]
  },
  {
   "cell_type": "code",
   "execution_count": 196,
   "id": "829b2929",
   "metadata": {},
   "outputs": [
    {
     "data": {
      "text/plain": [
       "'ssssssssss'"
      ]
     },
     "execution_count": 196,
     "metadata": {},
     "output_type": "execute_result"
    }
   ],
   "source": [
    "# si que podemos usar el multiplicador para crear repetición de elementos\n",
    "letter='s'\n",
    "letter*10"
   ]
  },
  {
   "cell_type": "code",
   "execution_count": 198,
   "id": "39537ae0",
   "metadata": {
    "scrolled": true
   },
   "outputs": [],
   "source": [
    "# Todo en mayúsculas (no cambia el original)\n",
    "S=s.upper()"
   ]
  },
  {
   "cell_type": "code",
   "execution_count": 200,
   "id": "1e42686d",
   "metadata": {},
   "outputs": [
    {
     "data": {
      "text/plain": [
       "'HELLO WORLD CONCATENAME CONCATENAME CONCATENAME CONCATENAME CONCATENAME CONCATENAME CONCATENAME CONCATENAME CONCATENAME CONCATENAME CONCATENAME CONCATENAME CONCATENAME CONCATENAME CONCATENAME CONCATENAME CONCATENAME CONCATENAME CONCATENAME CONCATENAME CONCATENAME CONCATENAME CONCATENAME CONCATENAME CONCATENAME CONCATENAME CONCATENAME CONCATENAME CONCATENAME CONCATENAME CONCATENAME CONCATENAME CONCATENAME CONCATENAME CONCATENAME'"
      ]
     },
     "execution_count": 200,
     "metadata": {},
     "output_type": "execute_result"
    }
   ],
   "source": [
    "S"
   ]
  },
  {
   "cell_type": "code",
   "execution_count": 202,
   "id": "fcdcd3e4",
   "metadata": {},
   "outputs": [
    {
     "data": {
      "text/plain": [
       "'hello world concatename concatename concatename concatename concatename concatename concatename concatename concatename concatename concatename concatename concatename concatename concatename concatename concatename concatename concatename concatename concatename concatename concatename concatename concatename concatename concatename concatename concatename concatename concatename concatename concatename concatename concatename'"
      ]
     },
     "execution_count": 202,
     "metadata": {},
     "output_type": "execute_result"
    }
   ],
   "source": [
    "# Todo en minúsculas\n",
    "s.lower()"
   ]
  },
  {
   "cell_type": "code",
   "execution_count": 204,
   "id": "e47b75b8",
   "metadata": {},
   "outputs": [
    {
     "data": {
      "text/plain": [
       "['Hello',\n",
       " 'World',\n",
       " 'concatename',\n",
       " 'concatename',\n",
       " 'concatename',\n",
       " 'concatename',\n",
       " 'concatename',\n",
       " 'concatename',\n",
       " 'concatename',\n",
       " 'concatename',\n",
       " 'concatename',\n",
       " 'concatename',\n",
       " 'concatename',\n",
       " 'concatename',\n",
       " 'concatename',\n",
       " 'concatename',\n",
       " 'concatename',\n",
       " 'concatename',\n",
       " 'concatename',\n",
       " 'concatename',\n",
       " 'concatename',\n",
       " 'concatename',\n",
       " 'concatename',\n",
       " 'concatename',\n",
       " 'concatename',\n",
       " 'concatename',\n",
       " 'concatename',\n",
       " 'concatename',\n",
       " 'concatename',\n",
       " 'concatename',\n",
       " 'concatename',\n",
       " 'concatename',\n",
       " 'concatename',\n",
       " 'concatename',\n",
       " 'concatename',\n",
       " 'concatename',\n",
       " 'concatename']"
      ]
     },
     "execution_count": 204,
     "metadata": {},
     "output_type": "execute_result"
    }
   ],
   "source": [
    "# Separa la string por los espacios en blanco\n",
    "s.split()"
   ]
  },
  {
   "cell_type": "code",
   "execution_count": 206,
   "id": "0530dec1",
   "metadata": {},
   "outputs": [
    {
     "data": {
      "text/plain": [
       "['He',\n",
       " '',\n",
       " 'o Wor',\n",
       " 'd concatename concatename concatename concatename concatename concatename concatename concatename concatename concatename concatename concatename concatename concatename concatename concatename concatename concatename concatename concatename concatename concatename concatename concatename concatename concatename concatename concatename concatename concatename concatename concatename concatename concatename concatename']"
      ]
     },
     "execution_count": 206,
     "metadata": {},
     "output_type": "execute_result"
    }
   ],
   "source": [
    "s.split('l')"
   ]
  },
  {
   "cell_type": "code",
   "execution_count": 208,
   "id": "0cbfc20c",
   "metadata": {},
   "outputs": [
    {
     "name": "stdout",
     "output_type": "stream",
     "text": [
      "Él dijo que su nombre era Paco.\n"
     ]
    }
   ],
   "source": [
    "# Tips para hacer un print bonito con las f-strings\n",
    "nombre='Paco'\n",
    "print(f\"Él dijo que su nombre era {nombre}.\")"
   ]
  },
  {
   "cell_type": "code",
   "execution_count": 210,
   "id": "86055cfc",
   "metadata": {},
   "outputs": [
    {
     "name": "stdout",
     "output_type": "stream",
     "text": [
      "El dijo que su nombre era Paco.\n"
     ]
    }
   ],
   "source": [
    "print(f\"El dijo que su nombre era {nombre}.\")"
   ]
  },
  {
   "cell_type": "code",
   "execution_count": 212,
   "id": "bf48e4f0",
   "metadata": {},
   "outputs": [
    {
     "name": "stdout",
     "output_type": "stream",
     "text": [
      "Él dijo que su nombre era 'Paco'.\n"
     ]
    }
   ],
   "source": [
    "# Podemos meter la string literal con !r\n",
    "print(f\"Él dijo que su nombre era {nombre!r}.\")"
   ]
  },
  {
   "cell_type": "code",
   "execution_count": 252,
   "id": "74ea2068-ee99-4af0-a83a-dcee04ebf4ac",
   "metadata": {},
   "outputs": [
    {
     "name": "stdout",
     "output_type": "stream",
     "text": [
      "¿tú cómo pitas?\n"
     ]
    }
   ],
   "source": [
    "print(\"¿tú cómo pitas?\")"
   ]
  },
  {
   "cell_type": "code",
   "execution_count": 254,
   "id": "de4da7e9-c84d-4cb8-bd48-5a8c10daf907",
   "metadata": {},
   "outputs": [],
   "source": [
    "nombre=\"¿Como que como pito?\""
   ]
  },
  {
   "cell_type": "code",
   "execution_count": null,
   "id": "5d8df50b-04a8-43b7-8c67-030cbb39ac9e",
   "metadata": {},
   "outputs": [],
   "source": []
  }
 ],
 "metadata": {
  "kernelspec": {
   "display_name": "Python 3 (ipykernel)",
   "language": "python",
   "name": "python3"
  },
  "language_info": {
   "codemirror_mode": {
    "name": "ipython",
    "version": 3
   },
   "file_extension": ".py",
   "mimetype": "text/x-python",
   "name": "python",
   "nbconvert_exporter": "python",
   "pygments_lexer": "ipython3",
   "version": "3.12.4"
  }
 },
 "nbformat": 4,
 "nbformat_minor": 5
}
