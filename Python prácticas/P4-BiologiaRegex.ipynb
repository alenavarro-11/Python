{
 "cells": [
  {
   "cell_type": "markdown",
   "id": "985e6f9b",
   "metadata": {},
   "source": [
    "# PRACTICA 4\n",
    "\n",
    "### Resuelve los siguientes ejercicios"
   ]
  },
  {
   "cell_type": "markdown",
   "id": "28748e51",
   "metadata": {},
   "source": [
    "##### 1.- Abre el fichero dna.txt, guarda una lista del contenido del archivo. Devuelve su longitud y su primer caracter"
   ]
  },
  {
   "cell_type": "code",
   "execution_count": 3,
   "id": "88679bbc",
   "metadata": {},
   "outputs": [
    {
     "data": {
      "text/plain": [
       "['ATCGATCGATCGATCGACTGACTAGTCATAGCTATGCATGTAGCTACTCGATCGATCGATCGATCGATCGATCGATCGATCGATCATGCTATCATCGATCGATATCGATGCATCGACTACTAT']"
      ]
     },
     "execution_count": 3,
     "metadata": {},
     "output_type": "execute_result"
    }
   ],
   "source": [
    "dna_hum = open('dna.txt')\n",
    "dna_lista = dna_hum.readlines()\n",
    "dna_lista"
   ]
  },
  {
   "cell_type": "code",
   "execution_count": 11,
   "id": "291cdd1c-01a4-46f9-b8ff-073d9e7fd4ca",
   "metadata": {},
   "outputs": [
    {
     "data": {
      "text/plain": [
       "123"
      ]
     },
     "execution_count": 11,
     "metadata": {},
     "output_type": "execute_result"
    }
   ],
   "source": [
    "dna_lista[0]\n",
    "len(dna_lista[0])"
   ]
  },
  {
   "cell_type": "code",
   "execution_count": 21,
   "id": "edc31c3a-0185-468b-983f-4735dc54775e",
   "metadata": {},
   "outputs": [
    {
     "data": {
      "text/plain": [
       "'A'"
      ]
     },
     "execution_count": 21,
     "metadata": {},
     "output_type": "execute_result"
    }
   ],
   "source": [
    "dna_lista[0]\n",
    "primer_caracter = dna_lista[0][0]\n",
    "primer_caracter"
   ]
  },
  {
   "cell_type": "markdown",
   "id": "9b87396a",
   "metadata": {},
   "source": [
    "##### 2.- Crea dos archivos. Uno almacena los accession que empiezen por 'a' y el otro el resto"
   ]
  },
  {
   "cell_type": "code",
   "execution_count": 44,
   "id": "73957856",
   "metadata": {},
   "outputs": [],
   "source": [
    "accs = ['ab56', 'bh84', 'hv76', 'ay93', 'ap97', 'bd72']"
   ]
  },
  {
   "cell_type": "code",
   "execution_count": 46,
   "id": "8f62bc8f",
   "metadata": {},
   "outputs": [],
   "source": [
    "archivo_a = open('accesion_primero.txt', 'w')\n",
    "archivo_resto = open('accesion_segundo.txt', 'w')\n",
    "\n",
    "for accesion in accs:\n",
    "    if accesion.startswith('a'):\n",
    "        archivo_a.write(accesion + '\\n')\n",
    "    else:\n",
    "        archivo_resto.write(accesion + '\\n')"
   ]
  },
  {
   "cell_type": "markdown",
   "id": "9cbb4adf",
   "metadata": {},
   "source": [
    "##### 3.- Imprime solamente los accessions de la lista anterior que empiecen por 'a' y no acaben con '6'. Pista: usa endswith() y startswidth()"
   ]
  },
  {
   "cell_type": "code",
   "execution_count": 62,
   "id": "df44f671-b899-4410-af2c-f6904b1aec17",
   "metadata": {},
   "outputs": [],
   "source": [
    "accs = ['ab56', 'bh84', 'hv76', 'ay93', 'ap97', 'bd72']"
   ]
  },
  {
   "cell_type": "code",
   "execution_count": 66,
   "id": "b32ca419",
   "metadata": {},
   "outputs": [
    {
     "name": "stdout",
     "output_type": "stream",
     "text": [
      "ay93\n",
      "ap97\n"
     ]
    }
   ],
   "source": [
    "for accesion in accs:\n",
    "    if accesion.startswith('a') and not accesion.endswith('6'):\n",
    "        print(accesion)"
   ]
  },
  {
   "cell_type": "markdown",
   "id": "42c397b0",
   "metadata": {},
   "source": [
    "##### 4.- Escribe una función que cuente el porcentaje de A de una secuencia"
   ]
  },
  {
   "cell_type": "code",
   "execution_count": 76,
   "id": "da633510",
   "metadata": {},
   "outputs": [
    {
     "name": "stdout",
     "output_type": "stream",
     "text": [
      "26.82926829268293\n"
     ]
    }
   ],
   "source": [
    "dna_conteo = dna_lista[0]\n",
    "porcentaje_secuencia = dna_conteo.count('A')/len(dna_conteo)*100\n",
    "print(porcentaje_secuencia)"
   ]
  },
  {
   "cell_type": "markdown",
   "id": "054b8f51",
   "metadata": {},
   "source": [
    "##### ¿Puedes hacer que devuelva dos decimales? ¿Y que lidie con mayúsculas y minúsculas?"
   ]
  },
  {
   "cell_type": "code",
   "execution_count": 102,
   "id": "dc1d5907",
   "metadata": {},
   "outputs": [],
   "source": [
    "def calculo_a(secuencia):\n",
    "    secuencia.upper()\n",
    "    conteo_a = secuencia.count('A')\n",
    "    longitud = len(secuencia)\n",
    "    porcentaje = ( conteo_a / longitud)*100\n",
    "    return round(porcentaje,2)"
   ]
  },
  {
   "cell_type": "code",
   "execution_count": 104,
   "id": "afa45386-d9de-49f5-843e-b0301f740832",
   "metadata": {},
   "outputs": [
    {
     "data": {
      "text/plain": [
       "26.83"
      ]
     },
     "execution_count": 104,
     "metadata": {},
     "output_type": "execute_result"
    }
   ],
   "source": [
    "calculo_a(dna_conteo)"
   ]
  },
  {
   "cell_type": "markdown",
   "id": "36a03b5f",
   "metadata": {},
   "source": [
    "##### ¿Y que devuelva el número de decimales que yo quiero?"
   ]
  },
  {
   "cell_type": "code",
   "execution_count": 144,
   "id": "1ac51951",
   "metadata": {},
   "outputs": [],
   "source": [
    "def calculo_def(secuencia):\n",
    "    secuencia.upper()\n",
    "    conteo_a = secuencia.count('A')\n",
    "    longitud = len(secuencia)\n",
    "    porcentaje = ( conteo_a / longitud)*100\n",
    "    return round(porcentaje,9)"
   ]
  },
  {
   "cell_type": "code",
   "execution_count": 146,
   "id": "93ec826b-4402-46ed-9387-7b031a66a137",
   "metadata": {},
   "outputs": [
    {
     "data": {
      "text/plain": [
       "26.829268293"
      ]
     },
     "execution_count": 146,
     "metadata": {},
     "output_type": "execute_result"
    }
   ],
   "source": [
    "calculo_def(dna_conteo)"
   ]
  },
  {
   "cell_type": "markdown",
   "id": "2c811d84",
   "metadata": {},
   "source": [
    "##### ¿Sabes poner un valor por defecto en un argumento?"
   ]
  },
  {
   "cell_type": "code",
   "execution_count": 148,
   "id": "71d06ce5-b720-4216-b2e4-129cf9151228",
   "metadata": {},
   "outputs": [],
   "source": [
    "def calculo_def(secuencia, decimal = 2):\n",
    "    secuencia.upper()\n",
    "    conteo_a = secuencia.count('A')\n",
    "    longitud = len(secuencia)\n",
    "    porcentaje = ( conteo_a / longitud)*100\n",
    "    return round(porcentaje,decimal)"
   ]
  },
  {
   "cell_type": "code",
   "execution_count": 150,
   "id": "4b4d6eda-76dc-494f-89d1-4b862e19d4c9",
   "metadata": {},
   "outputs": [
    {
     "data": {
      "text/plain": [
       "26.83"
      ]
     },
     "execution_count": 150,
     "metadata": {},
     "output_type": "execute_result"
    }
   ],
   "source": [
    "calculo_def(dna_conteo)"
   ]
  },
  {
   "cell_type": "markdown",
   "id": "ab2c106c",
   "metadata": {},
   "source": [
    "##### ¿Qué pasa si no ponemos un argumento? ¿Sabrías hacer una función encapsulada?"
   ]
  },
  {
   "cell_type": "code",
   "execution_count": 156,
   "id": "b155dc1e",
   "metadata": {},
   "outputs": [],
   "source": [
    "secuencia = dna_lista[0]\n",
    "\n",
    "def calculo_def():\n",
    "    secuencia.upper()\n",
    "    conteo_a = secuencia.count('A')\n",
    "    longitud = len(secuencia)\n",
    "    porcentaje = (conteo_a / longitud)*100\n",
    "    return round(porcentaje)"
   ]
  },
  {
   "cell_type": "code",
   "execution_count": 158,
   "id": "046f5595-b8c5-41be-8244-bd94e78c56b3",
   "metadata": {},
   "outputs": [
    {
     "data": {
      "text/plain": [
       "27"
      ]
     },
     "execution_count": 158,
     "metadata": {},
     "output_type": "execute_result"
    }
   ],
   "source": [
    "calculo_def()"
   ]
  },
  {
   "cell_type": "markdown",
   "id": "83af4b0f",
   "metadata": {},
   "source": [
    "##### Testea tu función original con assert"
   ]
  },
  {
   "cell_type": "code",
   "execution_count": 222,
   "id": "e78bebe2-7882-45cd-a1e5-72917e6132e3",
   "metadata": {},
   "outputs": [],
   "source": [
    "def calculo_def(secuencia, decimal = 2):\n",
    "    secuencia.upper()\n",
    "    conteo_a = secuencia.count('A')\n",
    "    longitud = len(secuencia)\n",
    "    porcentaje = ( conteo_a / longitud)*100\n",
    "    return round(porcentaje,decimal)"
   ]
  },
  {
   "cell_type": "code",
   "execution_count": 224,
   "id": "5cbdf7dc-e26e-48e7-b64b-40523d499e20",
   "metadata": {},
   "outputs": [
    {
     "data": {
      "text/plain": [
       "26.83"
      ]
     },
     "execution_count": 224,
     "metadata": {},
     "output_type": "execute_result"
    }
   ],
   "source": [
    "calculo_def(dna_conteo)"
   ]
  },
  {
   "cell_type": "code",
   "execution_count": 226,
   "id": "2bf31b44",
   "metadata": {},
   "outputs": [
    {
     "ename": "AssertionError",
     "evalue": "",
     "output_type": "error",
     "traceback": [
      "\u001b[0;31m---------------------------------------------------------------------------\u001b[0m",
      "\u001b[0;31mAssertionError\u001b[0m                            Traceback (most recent call last)",
      "Cell \u001b[0;32mIn[226], line 1\u001b[0m\n\u001b[0;32m----> 1\u001b[0m \u001b[38;5;28;01massert\u001b[39;00m calculo_def(\u001b[38;5;124m'\u001b[39m\u001b[38;5;124msecuencia\u001b[39m\u001b[38;5;124m'\u001b[39m) \u001b[38;5;241m==\u001b[39m \u001b[38;5;241m26.83\u001b[39m\n",
      "\u001b[0;31mAssertionError\u001b[0m: "
     ]
    }
   ],
   "source": [
    "assert calculo_def('secuencia') == 26.83"
   ]
  },
  {
   "cell_type": "markdown",
   "id": "991abaa2",
   "metadata": {},
   "source": [
    "#### 5.- De la lista de accessions que se proporciona obtén lo siguiente:\n",
    "1. Los que tengan el número 5\n",
    "2. Los que tengan la letra 'd' o la 'e'\n",
    "3. Los que tengan las letras 'd' y 'e' en ese orden\n",
    "4. Los que tengan las letras 'd' y 'e' en ese orden con una letra cualquiera en medio\n",
    "5. Los que tengan ambas letras 'd' y 'e' en cualquier orden\n",
    "6. Los que empiezan por 'x' o por 'y'\n",
    "7. Los que empiezan por 'x' o 'y' y terminan por 'e'\n",
    "8. Los que tienen tres o más dígitos seguidos\n",
    "9. Los que terminan con 'd' seguidos de 'a' o 'r' o 'p'"
   ]
  },
  {
   "cell_type": "code",
   "execution_count": 196,
   "id": "6388ac75",
   "metadata": {},
   "outputs": [],
   "source": [
    "import re"
   ]
  },
  {
   "cell_type": "code",
   "execution_count": 198,
   "id": "d00d3ce7",
   "metadata": {},
   "outputs": [],
   "source": [
    "accs = ['xkn59438', 'yhdck2', 'eihd39d9', 'chdsye847', 'hedle3455', 'xjhd53e', '45da', 'de37dp']"
   ]
  },
  {
   "cell_type": "code",
   "execution_count": 204,
   "id": "4f83f9cd-4922-41a1-962b-7f036b616122",
   "metadata": {},
   "outputs": [
    {
     "name": "stdout",
     "output_type": "stream",
     "text": [
      "xkn59438\n",
      "hedle3455\n",
      "xjhd53e\n",
      "45da\n"
     ]
    }
   ],
   "source": [
    "for accesion in accs:\n",
    "    if re.search(r'5', accesion):\n",
    "        print (accesion)"
   ]
  },
  {
   "cell_type": "code",
   "execution_count": 206,
   "id": "37d95053-fece-4385-b3b5-27c40b8a8d1b",
   "metadata": {},
   "outputs": [
    {
     "name": "stdout",
     "output_type": "stream",
     "text": [
      "yhdck2\n",
      "eihd39d9\n",
      "chdsye847\n",
      "hedle3455\n",
      "xjhd53e\n",
      "45da\n",
      "de37dp\n"
     ]
    }
   ],
   "source": [
    "for accesion in accs:\n",
    "    if re.search(r'd|e', accesion):\n",
    "        print (accesion)"
   ]
  },
  {
   "cell_type": "code",
   "execution_count": 210,
   "id": "a9039e45-3891-4ff7-b862-b5977ce23fec",
   "metadata": {},
   "outputs": [
    {
     "name": "stdout",
     "output_type": "stream",
     "text": [
      "de37dp\n"
     ]
    }
   ],
   "source": [
    "for accesion in accs:\n",
    "    if re.search(r'de', accesion):\n",
    "        print (accesion)"
   ]
  },
  {
   "cell_type": "code",
   "execution_count": 214,
   "id": "29c349fe-6ac7-4a43-a383-2fd47c711d94",
   "metadata": {},
   "outputs": [
    {
     "name": "stdout",
     "output_type": "stream",
     "text": [
      "hedle3455\n"
     ]
    }
   ],
   "source": [
    "for accesion in accs:\n",
    "    if re.search(r'd[^de]e', accesion):\n",
    "        print (accesion)"
   ]
  },
  {
   "cell_type": "code",
   "execution_count": 216,
   "id": "8a0f29f6-3336-44fe-b959-d70077e13731",
   "metadata": {},
   "outputs": [
    {
     "name": "stdout",
     "output_type": "stream",
     "text": [
      "yhdck2\n",
      "eihd39d9\n",
      "chdsye847\n",
      "hedle3455\n",
      "xjhd53e\n",
      "45da\n",
      "de37dp\n"
     ]
    }
   ],
   "source": [
    "for accesion in accs:\n",
    "    if re.search(r'[de]', accesion):\n",
    "        print (accesion)"
   ]
  },
  {
   "cell_type": "code",
   "execution_count": 242,
   "id": "8cadeabe-3279-4080-bfc3-84d3013b249c",
   "metadata": {},
   "outputs": [
    {
     "ename": "TypeError",
     "evalue": "slice indices must be integers or None or have an __index__ method",
     "output_type": "error",
     "traceback": [
      "\u001b[0;31m---------------------------------------------------------------------------\u001b[0m",
      "\u001b[0;31mTypeError\u001b[0m                                 Traceback (most recent call last)",
      "Cell \u001b[0;32mIn[242], line 2\u001b[0m\n\u001b[1;32m      1\u001b[0m \u001b[38;5;28;01mfor\u001b[39;00m accesion \u001b[38;5;129;01min\u001b[39;00m accs:\n\u001b[0;32m----> 2\u001b[0m     \u001b[38;5;28;01mif\u001b[39;00m accesion\u001b[38;5;241m.\u001b[39mstartswith(\u001b[38;5;124mr\u001b[39m\u001b[38;5;124m'\u001b[39m\u001b[38;5;124mx|y\u001b[39m\u001b[38;5;124m'\u001b[39m,accesion):\n\u001b[1;32m      3\u001b[0m         \u001b[38;5;28mprint\u001b[39m (accesion)\n",
      "\u001b[0;31mTypeError\u001b[0m: slice indices must be integers or None or have an __index__ method"
     ]
    }
   ],
   "source": [
    "for ac in accs:\n",
    "    if accesion.startswith(r'x|y',accesion):\n",
    "        print (accesion)"
   ]
  }
 ],
 "metadata": {
  "kernelspec": {
   "display_name": "Python 3 (ipykernel)",
   "language": "python",
   "name": "python3"
  },
  "language_info": {
   "codemirror_mode": {
    "name": "ipython",
    "version": 3
   },
   "file_extension": ".py",
   "mimetype": "text/x-python",
   "name": "python",
   "nbconvert_exporter": "python",
   "pygments_lexer": "ipython3",
   "version": "3.12.4"
  }
 },
 "nbformat": 4,
 "nbformat_minor": 5
}
