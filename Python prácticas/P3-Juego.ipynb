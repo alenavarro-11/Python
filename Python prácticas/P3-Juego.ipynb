{
 "cells": [
  {
   "cell_type": "markdown",
   "id": "e87fdfc4",
   "metadata": {},
   "source": [
    "# PRACTICA JUEGO CONDICIONALES BUCLES\n",
    "\n",
    "\n",
    "## JUEGO DE ADIVINANZAS\n",
    "\n",
    "#### Escribe un programa que coja un número entero del 1 al 100, y los jugadores tienen que tratar de adivinar el número.\n",
    "\n",
    "#### Las reglas son las siguientes:\n",
    "\n",
    "1. Si un jugador escoje un número menor que 1 o mayor que 100, el programa dice \"FUERA DE LÍMITES\"\n",
    "2. En el primer turno del jugador, si está en un rango de 10 del número dice \"¡CALIENTE!\". Si está fuera de ese rango dice \"¡FRIO!\"\n",
    "3. En todas las rondas siguientes, si el jugador se acerca más que la vez anterior, dice \"¡MAS CALIENTE!\". Si está más lejos que la anterior vez dice \"¡MAS FRIO!\"\n",
    "4. Cuando el jugador acierte el número, les dirá que han acertado y cuántos intentos les ha llevado\n",
    "\n",
    "\n",
    "\n"
   ]
  },
  {
   "cell_type": "markdown",
   "id": "1ea418c3",
   "metadata": {},
   "source": [
    "##### PISTAS\n",
    "1. Trata obtener un número aleatorio entre el 1 y el 100\n",
    "2. Haz una introducción de tu juego y explica las reglas\n",
    "3. Crea una lista que almacene los intentos. \n",
    "4. Haz un bucle que evalúe un número. Prueba que funcione primero. While podría ir bien\n",
    "5. Modifica ese bucle para que compare nuestro número con el intento. Si se acierta usa break, si no puedes usar continue y tienes que seguir preguntando al jugador por nuevos intentos"
   ]
  },
  {
   "cell_type": "code",
   "execution_count": 7,
   "id": "9d8095d9",
   "metadata": {},
   "outputs": [],
   "source": [
    "def juego_adiv():\n",
    "    from random import randint\n",
    "    numero_secreto = randint (1,100)\n",
    "    lista_intentos = []\n",
    "\n",
    "    print ('Bienvenidos al juego de las adivinanzas')\n",
    "    print ('Dime un numero del 1 al 100')\n",
    "    print ('Si el numero escogido esta en un rango de 10 del numero secreto dice CALIENTE, si esta fuera de rango dice FRIO')\n",
    "    print ('Cuanto mas te acerques al numero secreto dira MAS CALIENTE o MAS FRIO, si te alejas')\n",
    "\n",
    "    while True:\n",
    "        intento = int(input('Dime un numero del 1 al 100'))\n",
    "        if intento < 1 or intento > 100:\n",
    "            print ('Fuera de limites')\n",
    "            continue\n",
    "        lista_intentos.append(intento)\n",
    "        if intento == numero_secreto:\n",
    "            print ('Has acertado')\n",
    "            print (len(lista_intentos))\n",
    "            break\n",
    "        else:\n",
    "            if len(lista_intentos) == 1:\n",
    "                if abs(intento - numero_secreto) <= 10: \n",
    "                    print ('Caliente')\n",
    "                else:\n",
    "                    print ('Frio')\n",
    "            if len(lista_intentos) > 1:\n",
    "                if abs(intento - numero_secreto) <= 10:\n",
    "                    print ('Mas caliente')\n",
    "                else: \n",
    "                    print ('Mas frio')"
   ]
  },
  {
   "cell_type": "code",
   "execution_count": null,
   "id": "5a099c79-cc73-4c20-b7b1-3c799678286d",
   "metadata": {},
   "outputs": [
    {
     "name": "stdout",
     "output_type": "stream",
     "text": [
      "Bienvenidos al juego de las adivinanzas\n",
      "Dime un numero del 1 al 100\n",
      "Si el numero escogido esta en un rango de 10 del numero secreto dice CALIENTE, si esta fuera de rango dice FRIO\n",
      "Cuanto mas te acerques al numero secreto dira MAS CALIENTE o MAS FRIO, si te alejas\n"
     ]
    }
   ],
   "source": [
    "juego_adiv()"
   ]
  }
 ],
 "metadata": {
  "kernelspec": {
   "display_name": "Python 3 (ipykernel)",
   "language": "python",
   "name": "python3"
  },
  "language_info": {
   "codemirror_mode": {
    "name": "ipython",
    "version": 3
   },
   "file_extension": ".py",
   "mimetype": "text/x-python",
   "name": "python",
   "nbconvert_exporter": "python",
   "pygments_lexer": "ipython3",
   "version": "3.12.4"
  }
 },
 "nbformat": 4,
 "nbformat_minor": 5
}
